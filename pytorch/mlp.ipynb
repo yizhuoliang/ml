{
 "cells": [
  {
   "cell_type": "markdown",
   "metadata": {},
   "source": [
    "# OpenMLSys Sec 3.2 Multi-layer Perceptron"
   ]
  },
  {
   "cell_type": "markdown",
   "metadata": {},
   "source": [
    "## Prepare Data"
   ]
  },
  {
   "cell_type": "code",
   "execution_count": 2,
   "metadata": {},
   "outputs": [
    {
     "name": "stdout",
     "output_type": "stream",
     "text": [
      "Warning: Your Kaggle API key is readable by other users on this system! To fix this, you can run 'chmod 600 /home/yliang/.config/kaggle/kaggle.json'\n",
      "Warning: Your Kaggle API key is readable by other users on this system! To fix this, you can run 'chmod 600 /home/yliang/.config/kaggle/kaggle.json'\n",
      "Downloading MNIST dataset...\n",
      "Dataset URL: https://www.kaggle.com/datasets/hojjatk/mnist-dataset\n",
      "MNIST dataset has been processed and saved in:\n",
      " - Training data: mnist_data/train\n",
      " - Testing data: mnist_data/test\n"
     ]
    }
   ],
   "source": [
    "import os\n",
    "import shutil\n",
    "import numpy as np\n",
    "import struct\n",
    "import zipfile\n",
    "from kaggle.api.kaggle_api_extended import KaggleApi\n",
    "\n",
    "def download_and_preprocess_mnist(output_dir=\"mnist_data\"):\n",
    "    os.makedirs(output_dir, exist_ok=True)\n",
    "\n",
    "    # Initialize Kaggle API\n",
    "    api = KaggleApi()\n",
    "    api.authenticate()\n",
    "    \n",
    "    # Download MNIST dataset\n",
    "    dataset_zip = os.path.join(output_dir, \"mnist-dataset.zip\")\n",
    "    print(\"Downloading MNIST dataset...\")\n",
    "    api.dataset_download_files(\"hojjatk/mnist-dataset\", path=output_dir, unzip=True)\n",
    "\n",
    "    # Organizing extracted files\n",
    "    files = {\n",
    "        \"train_images\": \"train-images.idx3-ubyte\",\n",
    "        \"train_labels\": \"train-labels.idx1-ubyte\",\n",
    "        \"test_images\": \"t10k-images.idx3-ubyte\",\n",
    "        \"test_labels\": \"t10k-labels.idx1-ubyte\"\n",
    "    }\n",
    "    \n",
    "    for key, filename in files.items():\n",
    "        files[key] = os.path.join(output_dir, filename)\n",
    "\n",
    "    # Function to read MNIST files\n",
    "    def read_idx(filename):\n",
    "        with open(filename, 'rb') as f:\n",
    "            magic, num = struct.unpack(\">II\", f.read(8))\n",
    "            if magic == 2051:  # Image file\n",
    "                rows, cols = struct.unpack(\">II\", f.read(8))\n",
    "                return np.frombuffer(f.read(), dtype=np.uint8).reshape(num, rows, cols)\n",
    "            elif magic == 2049:  # Label file\n",
    "                return np.frombuffer(f.read(), dtype=np.uint8)\n",
    "    \n",
    "    # Read dataset\n",
    "    train_images = read_idx(files[\"train_images\"])\n",
    "    train_labels = read_idx(files[\"train_labels\"])\n",
    "    test_images = read_idx(files[\"test_images\"])\n",
    "    test_labels = read_idx(files[\"test_labels\"])\n",
    "\n",
    "    # Merge train and test sets before splitting\n",
    "    all_images = np.concatenate([train_images, test_images], axis=0)\n",
    "    all_labels = np.concatenate([train_labels, test_labels], axis=0)\n",
    "\n",
    "    # Shuffle dataset before splitting\n",
    "    indices = np.arange(len(all_images))\n",
    "    np.random.shuffle(indices)\n",
    "\n",
    "    all_images = all_images[indices]\n",
    "    all_labels = all_labels[indices]\n",
    "\n",
    "    # Split into train (70%) and test (30%)\n",
    "    split_idx = int(0.7 * len(all_images))\n",
    "    train_images, test_images = all_images[:split_idx], all_images[split_idx:]\n",
    "    train_labels, test_labels = all_labels[:split_idx], all_labels[split_idx:]\n",
    "\n",
    "    # Create train/ and test/ directories\n",
    "    train_dir = os.path.join(output_dir, \"train\")\n",
    "    test_dir = os.path.join(output_dir, \"test\")\n",
    "    os.makedirs(train_dir, exist_ok=True)\n",
    "    os.makedirs(test_dir, exist_ok=True)\n",
    "\n",
    "    # Save datasets as .npy\n",
    "    np.save(os.path.join(train_dir, \"images.npy\"), train_images)\n",
    "    np.save(os.path.join(train_dir, \"labels.npy\"), train_labels)\n",
    "    np.save(os.path.join(test_dir, \"images.npy\"), test_images)\n",
    "    np.save(os.path.join(test_dir, \"labels.npy\"), test_labels)\n",
    "\n",
    "    print(\"MNIST dataset has been processed and saved in:\")\n",
    "    print(f\" - Training data: {train_dir}\")\n",
    "    print(f\" - Testing data: {test_dir}\")\n",
    "\n",
    "# Run the function\n",
    "download_and_preprocess_mnist()\n"
   ]
  },
  {
   "cell_type": "code",
   "execution_count": 12,
   "metadata": {},
   "outputs": [
    {
     "name": "stdout",
     "output_type": "stream",
     "text": [
      "Current working directory: /home/yliang/ml\n",
      "Files and directories in the current directory:\n",
      "train-labels-idx1-ubyte\n",
      "t10k-images-idx3-ubyte\n",
      "train-images-idx3-ubyte\n",
      "t10k-images.idx3-ubyte\n",
      "t10k-labels.idx1-ubyte\n",
      "train-labels.idx1-ubyte\n",
      "test\n",
      "train-images.idx3-ubyte\n",
      "t10k-labels-idx1-ubyte\n",
      "train\n"
     ]
    }
   ],
   "source": [
    "import os\n",
    "\n",
    "# Get the current working directory (cwd)\n",
    "cwd = os.getcwd()\n",
    "print(f\"Current working directory: {cwd}\")\n",
    "\n",
    "# List the contents of the current directory\n",
    "files = os.listdir(cwd + \"/mnist_data\")\n",
    "\n",
    "print(\"Files and directories in the current directory:\")\n",
    "for file in files:\n",
    "    print(file)\n"
   ]
  },
  {
   "cell_type": "markdown",
   "metadata": {},
   "source": [
    "Now we start using the mnist dataset at ./dataset/"
   ]
  },
  {
   "cell_type": "code",
   "execution_count": 3,
   "metadata": {},
   "outputs": [],
   "source": [
    "import torch\n",
    "import torch.nn as nn\n",
    "import torch.optim as optim\n",
    "from torch.utils.data import Dataset, DataLoader\n",
    "import torchvision.transforms as transforms\n",
    "\n",
    "import numpy as np"
   ]
  },
  {
   "cell_type": "markdown",
   "metadata": {},
   "source": [
    "## Data Pre-processing"
   ]
  },
  {
   "cell_type": "code",
   "execution_count": 5,
   "metadata": {},
   "outputs": [
    {
     "name": "stdout",
     "output_type": "stream",
     "text": [
      "DataLoaders created.\n",
      "Number of training samples: 49000\n",
      "Number of testing samples: 21000\n"
     ]
    }
   ],
   "source": [
    "class MNISTDataset(Dataset):\n",
    "    def __init__(self, images_path, labels_path, transform=None):\n",
    "        \"\"\"\n",
    "        images_path: path to the .npy file containing MNIST images\n",
    "        labels_path: path to the .npy file containing MNIST labels\n",
    "        transform: optional torchvision transforms to apply to each image\n",
    "        \"\"\"\n",
    "        self.images = np.load(images_path)   # shape (N, 28, 28)\n",
    "        self.labels = np.load(labels_path)   # shape (N,)\n",
    "        self.transform = transform\n",
    "\n",
    "    def __len__(self):\n",
    "        return len(self.labels)\n",
    "\n",
    "    def __getitem__(self, idx):\n",
    "        image = self.images[idx]\n",
    "        label = self.labels[idx]\n",
    "\n",
    "        # The image is currently a NumPy array of shape (28, 28).\n",
    "        # If a transform is provided, we'll convert it to a PIL image first\n",
    "        # then apply the transforms.\n",
    "        if self.transform:\n",
    "            image = self.transform(image)\n",
    "\n",
    "        return image, label\n",
    "\n",
    "\n",
    "# Define our transforms:\n",
    "# 1) Convert the numpy array to a PIL image\n",
    "# 2) Resize to (32, 32) for demonstration (optional)\n",
    "# 3) Convert to a normalized tensor\n",
    "transform = transforms.Compose([\n",
    "    transforms.ToPILImage(),\n",
    "    transforms.Resize((32, 32)),\n",
    "    transforms.ToTensor()  # This converts [0, 255] range to [0, 1.0]\n",
    "])\n",
    "\n",
    "# Create Dataset objects for train/test\n",
    "train_dataset = MNISTDataset(\n",
    "    images_path=\"mnist_data/train/images.npy\",\n",
    "    labels_path=\"mnist_data/train/labels.npy\",\n",
    "    transform=transform\n",
    ")\n",
    "\n",
    "test_dataset = MNISTDataset(\n",
    "    images_path=\"mnist_data/test/images.npy\",\n",
    "    labels_path=\"mnist_data/test/labels.npy\",\n",
    "    transform=transform\n",
    ")\n",
    "\n",
    "# Create DataLoaders for batching and shuffling\n",
    "train_loader = DataLoader(train_dataset, batch_size=64, shuffle=True)\n",
    "test_loader  = DataLoader(test_dataset, batch_size=64, shuffle=False)\n",
    "\n",
    "print(\"DataLoaders created.\")\n",
    "print(f\"Number of training samples: {len(train_dataset)}\")\n",
    "print(f\"Number of testing samples: {len(test_dataset)}\")"
   ]
  },
  {
   "cell_type": "code",
   "execution_count": 7,
   "metadata": {},
   "outputs": [
    {
     "name": "stdout",
     "output_type": "stream",
     "text": [
      "Model architecture:\n",
      "MLP(\n",
      "  (flatten): Flatten(start_dim=1, end_dim=-1)\n",
      "  (fc1): Linear(in_features=1024, out_features=256, bias=True)\n",
      "  (fc2): Linear(in_features=256, out_features=128, bias=True)\n",
      "  (fc3): Linear(in_features=128, out_features=10, bias=True)\n",
      ")\n"
     ]
    }
   ],
   "source": [
    "class MLP(nn.Module):\n",
    "    def __init__(self):\n",
    "        super(MLP, self).__init__()\n",
    "        self.flatten = nn.Flatten()\n",
    "        self.fc1 = nn.Linear(32*32, 256)\n",
    "        self.fc2 = nn.Linear(256, 128)\n",
    "        self.fc3 = nn.Linear(128, 10)\n",
    "        \n",
    "    def forward(self, x):\n",
    "        x = self.flatten(x)     # Flatten from [B, 1, 32, 32] -> [B, 1024]\n",
    "        x = torch.relu(self.fc1(x))\n",
    "        x = torch.relu(self.fc2(x))\n",
    "        x = self.fc3(x)         # Output logits of shape [B, 10]\n",
    "        return x\n",
    "\n",
    "# Instantiate the model\n",
    "model = MLP()\n",
    "print(\"Model architecture:\")\n",
    "print(model)"
   ]
  },
  {
   "cell_type": "markdown",
   "metadata": {},
   "source": [
    "## Loss Function and Optimizer"
   ]
  },
  {
   "cell_type": "code",
   "execution_count": 8,
   "metadata": {},
   "outputs": [
    {
     "name": "stdout",
     "output_type": "stream",
     "text": [
      "Loss function and optimizer are set.\n"
     ]
    }
   ],
   "source": [
    "criterion = nn.CrossEntropyLoss()       # Cross-entropy loss for multi-class classification\n",
    "optimizer = optim.Adam(model.parameters(), lr=0.001)  # Adam optimizer with learning rate = 0.001\n",
    "\n",
    "print(\"Loss function and optimizer are set.\")"
   ]
  },
  {
   "cell_type": "markdown",
   "metadata": {},
   "source": [
    "## Training"
   ]
  },
  {
   "cell_type": "code",
   "execution_count": 9,
   "metadata": {},
   "outputs": [
    {
     "name": "stdout",
     "output_type": "stream",
     "text": [
      "Epoch [1/5], Loss: 0.3131\n",
      "Epoch [2/5], Loss: 0.1246\n",
      "Epoch [3/5], Loss: 0.0818\n",
      "Epoch [4/5], Loss: 0.0639\n",
      "Epoch [5/5], Loss: 0.0490\n"
     ]
    }
   ],
   "source": [
    "num_epochs = 5  # Example: 5 epochs\n",
    "\n",
    "for epoch in range(num_epochs):\n",
    "    model.train()  # set model to training mode\n",
    "    \n",
    "    total_loss = 0.0\n",
    "    for images, labels in train_loader:\n",
    "        # images shape: [batch_size, 1, 32, 32]\n",
    "        # labels shape: [batch_size]\n",
    "\n",
    "        # Forward pass\n",
    "        outputs = model(images)\n",
    "        loss = criterion(outputs, labels)\n",
    "\n",
    "        # Backward and optimize\n",
    "        optimizer.zero_grad()\n",
    "        loss.backward()\n",
    "        optimizer.step()\n",
    "\n",
    "        total_loss += loss.item()\n",
    "    \n",
    "    avg_loss = total_loss / len(train_loader)\n",
    "    print(f\"Epoch [{epoch+1}/{num_epochs}], Loss: {avg_loss:.4f}\")"
   ]
  },
  {
   "cell_type": "markdown",
   "metadata": {},
   "source": [
    "## Testing"
   ]
  },
  {
   "cell_type": "code",
   "execution_count": 10,
   "metadata": {},
   "outputs": [
    {
     "name": "stdout",
     "output_type": "stream",
     "text": [
      "Test Accuracy: 97.17%\n"
     ]
    }
   ],
   "source": [
    "model.eval()  # set model to evaluation mode\n",
    "correct = 0\n",
    "total = 0\n",
    "\n",
    "with torch.no_grad():\n",
    "    for images, labels in test_loader:\n",
    "        outputs = model(images)            # Forward pass\n",
    "        _, predicted = torch.max(outputs, 1)  # Get class with highest logit\n",
    "        total += labels.size(0)\n",
    "        correct += (predicted == labels).sum().item()\n",
    "\n",
    "accuracy = 100 * correct / total\n",
    "print(f\"Test Accuracy: {accuracy:.2f}%\")"
   ]
  },
  {
   "cell_type": "code",
   "execution_count": null,
   "metadata": {},
   "outputs": [],
   "source": []
  }
 ],
 "metadata": {
  "kernelspec": {
   "display_name": "Python 3 (ipykernel)",
   "language": "python",
   "name": "python3"
  },
  "language_info": {
   "codemirror_mode": {
    "name": "ipython",
    "version": 3
   },
   "file_extension": ".py",
   "mimetype": "text/x-python",
   "name": "python",
   "nbconvert_exporter": "python",
   "pygments_lexer": "ipython3",
   "version": "3.12.9"
  }
 },
 "nbformat": 4,
 "nbformat_minor": 2
}
